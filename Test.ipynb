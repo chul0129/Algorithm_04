{
 "cells": [
  {
   "cell_type": "code",
   "execution_count": 1,
   "id": "3673b9b7",
   "metadata": {},
   "outputs": [
    {
     "name": "stdout",
     "output_type": "stream",
     "text": [
      "Requirement already satisfied: tensorflow==2.9.1 in c:\\users\\yk291\\anaconda3\\lib\\site-packages (2.9.1)\n",
      "Requirement already satisfied: termcolor>=1.1.0 in c:\\users\\yk291\\anaconda3\\lib\\site-packages (from tensorflow==2.9.1) (1.1.0)\n",
      "Requirement already satisfied: libclang>=13.0.0 in c:\\users\\yk291\\anaconda3\\lib\\site-packages (from tensorflow==2.9.1) (14.0.1)\n",
      "Requirement already satisfied: setuptools in c:\\users\\yk291\\anaconda3\\lib\\site-packages (from tensorflow==2.9.1) (52.0.0.post20210125)\n",
      "Requirement already satisfied: wrapt>=1.11.0 in c:\\users\\yk291\\anaconda3\\lib\\site-packages (from tensorflow==2.9.1) (1.12.1)\n",
      "Requirement already satisfied: tensorflow-io-gcs-filesystem>=0.23.1 in c:\\users\\yk291\\anaconda3\\lib\\site-packages (from tensorflow==2.9.1) (0.26.0)\n",
      "Requirement already satisfied: google-pasta>=0.1.1 in c:\\users\\yk291\\anaconda3\\lib\\site-packages (from tensorflow==2.9.1) (0.2.0)\n",
      "Requirement already satisfied: tensorflow-estimator<2.10.0,>=2.9.0rc0 in c:\\users\\yk291\\anaconda3\\lib\\site-packages (from tensorflow==2.9.1) (2.9.0)\n",
      "Requirement already satisfied: astunparse>=1.6.0 in c:\\users\\yk291\\anaconda3\\lib\\site-packages (from tensorflow==2.9.1) (1.6.3)\n",
      "Requirement already satisfied: grpcio<2.0,>=1.24.3 in c:\\users\\yk291\\anaconda3\\lib\\site-packages (from tensorflow==2.9.1) (1.46.3)\n",
      "Requirement already satisfied: absl-py>=1.0.0 in c:\\users\\yk291\\anaconda3\\lib\\site-packages (from tensorflow==2.9.1) (1.1.0)\n",
      "Requirement already satisfied: h5py>=2.9.0 in c:\\users\\yk291\\anaconda3\\lib\\site-packages (from tensorflow==2.9.1) (2.10.0)\n",
      "Requirement already satisfied: gast<=0.4.0,>=0.2.1 in c:\\users\\yk291\\anaconda3\\lib\\site-packages (from tensorflow==2.9.1) (0.4.0)\n",
      "Requirement already satisfied: tensorboard<2.10,>=2.9 in c:\\users\\yk291\\anaconda3\\lib\\site-packages (from tensorflow==2.9.1) (2.9.1)\n",
      "Requirement already satisfied: typing-extensions>=3.6.6 in c:\\users\\yk291\\anaconda3\\lib\\site-packages (from tensorflow==2.9.1) (3.7.4.3)\n",
      "Requirement already satisfied: numpy>=1.20 in c:\\users\\yk291\\anaconda3\\lib\\site-packages (from tensorflow==2.9.1) (1.21.3)\n",
      "Requirement already satisfied: opt-einsum>=2.3.2 in c:\\users\\yk291\\anaconda3\\lib\\site-packages (from tensorflow==2.9.1) (3.3.0)\n",
      "Requirement already satisfied: flatbuffers<2,>=1.12 in c:\\users\\yk291\\anaconda3\\lib\\site-packages (from tensorflow==2.9.1) (1.12)\n",
      "Requirement already satisfied: packaging in c:\\users\\yk291\\anaconda3\\lib\\site-packages (from tensorflow==2.9.1) (20.9)\n",
      "Requirement already satisfied: keras-preprocessing>=1.1.1 in c:\\users\\yk291\\anaconda3\\lib\\site-packages (from tensorflow==2.9.1) (1.1.2)\n",
      "Requirement already satisfied: protobuf<3.20,>=3.9.2 in c:\\users\\yk291\\anaconda3\\lib\\site-packages (from tensorflow==2.9.1) (3.19.4)\n",
      "Requirement already satisfied: keras<2.10.0,>=2.9.0rc0 in c:\\users\\yk291\\anaconda3\\lib\\site-packages (from tensorflow==2.9.1) (2.9.0)\n",
      "Requirement already satisfied: six>=1.12.0 in c:\\users\\yk291\\anaconda3\\lib\\site-packages (from tensorflow==2.9.1) (1.14.0)\n",
      "Requirement already satisfied: wheel<1.0,>=0.23.0 in c:\\users\\yk291\\anaconda3\\lib\\site-packages (from astunparse>=1.6.0->tensorflow==2.9.1) (0.36.2)\n",
      "Requirement already satisfied: google-auth<3,>=1.6.3 in c:\\users\\yk291\\anaconda3\\lib\\site-packages (from tensorboard<2.10,>=2.9->tensorflow==2.9.1) (2.7.0)\n",
      "Requirement already satisfied: requests<3,>=2.21.0 in c:\\users\\yk291\\anaconda3\\lib\\site-packages (from tensorboard<2.10,>=2.9->tensorflow==2.9.1) (2.25.1)\n",
      "Requirement already satisfied: markdown>=2.6.8 in c:\\users\\yk291\\anaconda3\\lib\\site-packages (from tensorboard<2.10,>=2.9->tensorflow==2.9.1) (3.3.7)\n",
      "Requirement already satisfied: werkzeug>=1.0.1 in c:\\users\\yk291\\anaconda3\\lib\\site-packages (from tensorboard<2.10,>=2.9->tensorflow==2.9.1) (1.0.1)\n",
      "Requirement already satisfied: google-auth-oauthlib<0.5,>=0.4.1 in c:\\users\\yk291\\anaconda3\\lib\\site-packages (from tensorboard<2.10,>=2.9->tensorflow==2.9.1) (0.4.6)\n",
      "Requirement already satisfied: tensorboard-data-server<0.7.0,>=0.6.0 in c:\\users\\yk291\\anaconda3\\lib\\site-packages (from tensorboard<2.10,>=2.9->tensorflow==2.9.1) (0.6.1)\n",
      "Requirement already satisfied: tensorboard-plugin-wit>=1.6.0 in c:\\users\\yk291\\anaconda3\\lib\\site-packages (from tensorboard<2.10,>=2.9->tensorflow==2.9.1) (1.8.1)\n",
      "Requirement already satisfied: pyparsing>=2.0.2 in c:\\users\\yk291\\anaconda3\\lib\\site-packages (from packaging->tensorflow==2.9.1) (2.4.7)\n",
      "Requirement already satisfied: cachetools<6.0,>=2.0.0 in c:\\users\\yk291\\anaconda3\\lib\\site-packages (from google-auth<3,>=1.6.3->tensorboard<2.10,>=2.9->tensorflow==2.9.1) (5.2.0)\n",
      "Requirement already satisfied: rsa<5,>=3.1.4 in c:\\users\\yk291\\anaconda3\\lib\\site-packages (from google-auth<3,>=1.6.3->tensorboard<2.10,>=2.9->tensorflow==2.9.1) (4.8)\n",
      "Requirement already satisfied: pyasn1-modules>=0.2.1 in c:\\users\\yk291\\anaconda3\\lib\\site-packages (from google-auth<3,>=1.6.3->tensorboard<2.10,>=2.9->tensorflow==2.9.1) (0.2.8)\n",
      "Requirement already satisfied: requests-oauthlib>=0.7.0 in c:\\users\\yk291\\anaconda3\\lib\\site-packages (from google-auth-oauthlib<0.5,>=0.4.1->tensorboard<2.10,>=2.9->tensorflow==2.9.1) (1.3.1)\n",
      "Requirement already satisfied: importlib-metadata>=4.4 in c:\\users\\yk291\\anaconda3\\lib\\site-packages (from markdown>=2.6.8->tensorboard<2.10,>=2.9->tensorflow==2.9.1) (4.11.4)\n",
      "Requirement already satisfied: chardet<5,>=3.0.2 in c:\\users\\yk291\\anaconda3\\lib\\site-packages (from requests<3,>=2.21.0->tensorboard<2.10,>=2.9->tensorflow==2.9.1) (4.0.0)\n",
      "Requirement already satisfied: certifi>=2017.4.17 in c:\\users\\yk291\\anaconda3\\lib\\site-packages (from requests<3,>=2.21.0->tensorboard<2.10,>=2.9->tensorflow==2.9.1) (2020.12.5)\n",
      "Requirement already satisfied: urllib3<1.27,>=1.21.1 in c:\\users\\yk291\\anaconda3\\lib\\site-packages (from requests<3,>=2.21.0->tensorboard<2.10,>=2.9->tensorflow==2.9.1) (1.26.4)\n",
      "Requirement already satisfied: idna<3,>=2.5 in c:\\users\\yk291\\anaconda3\\lib\\site-packages (from requests<3,>=2.21.0->tensorboard<2.10,>=2.9->tensorflow==2.9.1) (2.10)\n",
      "Requirement already satisfied: zipp>=0.5 in c:\\users\\yk291\\anaconda3\\lib\\site-packages (from importlib-metadata>=4.4->markdown>=2.6.8->tensorboard<2.10,>=2.9->tensorflow==2.9.1) (3.4.1)\n",
      "Requirement already satisfied: pyasn1<0.5.0,>=0.4.6 in c:\\users\\yk291\\anaconda3\\lib\\site-packages (from pyasn1-modules>=0.2.1->google-auth<3,>=1.6.3->tensorboard<2.10,>=2.9->tensorflow==2.9.1) (0.4.8)\n",
      "Requirement already satisfied: oauthlib>=3.0.0 in c:\\users\\yk291\\anaconda3\\lib\\site-packages (from requests-oauthlib>=0.7.0->google-auth-oauthlib<0.5,>=0.4.1->tensorboard<2.10,>=2.9->tensorflow==2.9.1) (3.2.0)\n",
      "Note: you may need to restart the kernel to use updated packages.\n"
     ]
    },
    {
     "name": "stderr",
     "output_type": "stream",
     "text": [
      "WARNING: You are using pip version 21.3; however, version 22.1.2 is available.\n",
      "You should consider upgrading via the 'C:\\Users\\yk291\\anaconda3\\python.exe -m pip install --upgrade pip' command.\n"
     ]
    }
   ],
   "source": [
    "pip install tensorflow==2.9.1"
   ]
  },
  {
   "cell_type": "code",
   "execution_count": 1,
   "id": "e289fe71",
   "metadata": {},
   "outputs": [],
   "source": [
    "import tensorflow as tf\n",
    "from tensorflow import keras\n",
    "from tensorflow.keras import layers,models\n",
    "import numpy as np\n",
    "import matplotlib.pyplot as plt"
   ]
  },
  {
   "cell_type": "code",
   "execution_count": 2,
   "id": "f40f2318",
   "metadata": {},
   "outputs": [],
   "source": [
    "mnist=keras.datasets.mnist\n",
    "(train_images,train_labels),(test_images,test_labels)=mnist.load_data()"
   ]
  },
  {
   "cell_type": "code",
   "execution_count": 3,
   "id": "86350c3e",
   "metadata": {},
   "outputs": [
    {
     "name": "stdout",
     "output_type": "stream",
     "text": [
      "Shape of Train images: (60000, 28, 28)\n",
      "Shape of Train lables: (60000,)\n",
      "\n",
      "Shape of Test images: (10000, 28, 28)\n",
      "Shape of Test images: (10000,)\n"
     ]
    }
   ],
   "source": [
    "print('Shape of Train images:',train_images.shape)\n",
    "print('Shape of Train lables:',train_labels.shape)\n",
    "print('\\nShape of Test images:',test_images.shape)\n",
    "print('Shape of Test images:',test_labels.shape)"
   ]
  },
  {
   "cell_type": "code",
   "execution_count": 4,
   "id": "c6a02b36",
   "metadata": {},
   "outputs": [
    {
     "name": "stdout",
     "output_type": "stream",
     "text": [
      "Train labels: [5 0 4 ... 5 6 8]\n"
     ]
    }
   ],
   "source": [
    "print('Train labels:',train_labels)"
   ]
  },
  {
   "cell_type": "code",
   "execution_count": 5,
   "id": "0295328e",
   "metadata": {},
   "outputs": [
    {
     "name": "stdout",
     "output_type": "stream",
     "text": [
      "[[  0   0   0   0   0   0   0   0   0   0   0   0   0   0   0   0   0   0\n",
      "    0   0   0   0   0   0   0   0   0   0]\n",
      " [  0   0   0   0   0   0   0   0   0   0   0   0   0   0   0   0   0   0\n",
      "    0   0   0   0   0   0   0   0   0   0]\n",
      " [  0   0   0   0   0   0   0   0   0   0   0   0   0   0   0   0   0   0\n",
      "    0   0   0   0   0   0   0   0   0   0]\n",
      " [  0   0   0   0   0   0   0   0   0   0   0   0   0   0   0   0   0   0\n",
      "    0   0   0   0   0   0   0   0   0   0]\n",
      " [  0   0   0   0   0   0   0   0   0   0   0   0   0   0   0  51 159 253\n",
      "  159  50   0   0   0   0   0   0   0   0]\n",
      " [  0   0   0   0   0   0   0   0   0   0   0   0   0   0  48 238 252 252\n",
      "  252 237   0   0   0   0   0   0   0   0]\n",
      " [  0   0   0   0   0   0   0   0   0   0   0   0   0  54 227 253 252 239\n",
      "  233 252  57   6   0   0   0   0   0   0]\n",
      " [  0   0   0   0   0   0   0   0   0   0   0  10  60 224 252 253 252 202\n",
      "   84 252 253 122   0   0   0   0   0   0]\n",
      " [  0   0   0   0   0   0   0   0   0   0   0 163 252 252 252 253 252 252\n",
      "   96 189 253 167   0   0   0   0   0   0]\n",
      " [  0   0   0   0   0   0   0   0   0   0  51 238 253 253 190 114 253 228\n",
      "   47  79 255 168   0   0   0   0   0   0]\n",
      " [  0   0   0   0   0   0   0   0   0  48 238 252 252 179  12  75 121  21\n",
      "    0   0 253 243  50   0   0   0   0   0]\n",
      " [  0   0   0   0   0   0   0   0  38 165 253 233 208  84   0   0   0   0\n",
      "    0   0 253 252 165   0   0   0   0   0]\n",
      " [  0   0   0   0   0   0   0   7 178 252 240  71  19  28   0   0   0   0\n",
      "    0   0 253 252 195   0   0   0   0   0]\n",
      " [  0   0   0   0   0   0   0  57 252 252  63   0   0   0   0   0   0   0\n",
      "    0   0 253 252 195   0   0   0   0   0]\n",
      " [  0   0   0   0   0   0   0 198 253 190   0   0   0   0   0   0   0   0\n",
      "    0   0 255 253 196   0   0   0   0   0]\n",
      " [  0   0   0   0   0   0  76 246 252 112   0   0   0   0   0   0   0   0\n",
      "    0   0 253 252 148   0   0   0   0   0]\n",
      " [  0   0   0   0   0   0  85 252 230  25   0   0   0   0   0   0   0   0\n",
      "    7 135 253 186  12   0   0   0   0   0]\n",
      " [  0   0   0   0   0   0  85 252 223   0   0   0   0   0   0   0   0   7\n",
      "  131 252 225  71   0   0   0   0   0   0]\n",
      " [  0   0   0   0   0   0  85 252 145   0   0   0   0   0   0   0  48 165\n",
      "  252 173   0   0   0   0   0   0   0   0]\n",
      " [  0   0   0   0   0   0  86 253 225   0   0   0   0   0   0 114 238 253\n",
      "  162   0   0   0   0   0   0   0   0   0]\n",
      " [  0   0   0   0   0   0  85 252 249 146  48  29  85 178 225 253 223 167\n",
      "   56   0   0   0   0   0   0   0   0   0]\n",
      " [  0   0   0   0   0   0  85 252 252 252 229 215 252 252 252 196 130   0\n",
      "    0   0   0   0   0   0   0   0   0   0]\n",
      " [  0   0   0   0   0   0  28 199 252 252 253 252 252 233 145   0   0   0\n",
      "    0   0   0   0   0   0   0   0   0   0]\n",
      " [  0   0   0   0   0   0   0  25 128 252 253 252 141  37   0   0   0   0\n",
      "    0   0   0   0   0   0   0   0   0   0]\n",
      " [  0   0   0   0   0   0   0   0   0   0   0   0   0   0   0   0   0   0\n",
      "    0   0   0   0   0   0   0   0   0   0]\n",
      " [  0   0   0   0   0   0   0   0   0   0   0   0   0   0   0   0   0   0\n",
      "    0   0   0   0   0   0   0   0   0   0]\n",
      " [  0   0   0   0   0   0   0   0   0   0   0   0   0   0   0   0   0   0\n",
      "    0   0   0   0   0   0   0   0   0   0]\n",
      " [  0   0   0   0   0   0   0   0   0   0   0   0   0   0   0   0   0   0\n",
      "    0   0   0   0   0   0   0   0   0   0]]\n"
     ]
    }
   ],
   "source": [
    "print(train_images[1])"
   ]
  },
  {
   "cell_type": "code",
   "execution_count": 6,
   "id": "5577bcd5",
   "metadata": {},
   "outputs": [
    {
     "name": "stdout",
     "output_type": "stream",
     "text": [
      "First 10 Train images in MNIST dataset\n",
      "\n"
     ]
    },
    {
     "data": {
      "image/png": "[encoded data removed]",
      "text/plain": [
       "<Figure size 432x288 with 10 Axes>"
      ]
     },
     "metadata": {},
     "output_type": "display_data"
    },
    {
     "name": "stdout",
     "output_type": "stream",
     "text": [
      "\n",
      "Train labels match with Train label sequentialy\n",
      " [5 0 4 1 9 2 1 3 1 4]\n"
     ]
    }
   ],
   "source": [
    "print('First 10 Train images in MNIST dataset\\n')\n",
    "for i in range(10):\n",
    "    plt.subplot(1,10,i+1)\n",
    "    plt.xticks([])\n",
    "    plt.yticks([])\n",
    "    plt.imshow(train_images[i])\n",
    "plt.show()\n",
    "print('\\nTrain labels match with Train label sequentialy\\n',train_labels[:10])"
   ]
  },
  {
   "cell_type": "code",
   "execution_count": 7,
   "id": "d636ae19",
   "metadata": {},
   "outputs": [],
   "source": [
    "train_images=tf.reshape(train_images,[-1,28,28,1])\n",
    "test_images=tf.reshape(test_images,[-1,28,28,1])"
   ]
  },
  {
   "cell_type": "code",
   "execution_count": 8,
   "id": "5d5c2b9f",
   "metadata": {},
   "outputs": [],
   "source": [
    "def select_model(model_number):\n",
    "    if model_number ==1:\n",
    "        model=keras.models.Sequential([\n",
    "            keras.layers.Conv2D(32,(3,3),activation='relu',input_shape=(28,28,1)),\n",
    "            keras.layers.MaxPool2D((2,2)),\n",
    "            keras.layers.Flatten(),\n",
    "            keras.layers.Dense(10,activation='softmax')])\n",
    "    if model_number ==2:\n",
    "        model=model_2=keras.models.Sequential([\n",
    "            keras.layers.Conv2D(32,(3,3),activation='relu',input_shape=(28,28,1)),\n",
    "            keras.layers.MaxPool2D((2,2)),\n",
    "            keras.layers.Conv2D(64,(3,3),activation='relu'),\n",
    "            keras.layers.MaxPool2D((2,2)),\n",
    "            keras.layers.Flatten(),\n",
    "            keras.layers.Dense(10,activation='softmax')])\n",
    "    if model_number ==3:\n",
    "        model=model_3=keras.models.Sequential([\n",
    "            keras.layers.Conv2D(32,(3,3),activation='relu',input_shape=(28,28,1)),\n",
    "            keras.layers.MaxPool2D((2,2)),\n",
    "            keras.layers.Conv2D(64,(3,3),activation='relu'),\n",
    "            keras.layers.Conv2D(64,(3,3),activation='relu'),\n",
    "            keras.layers.MaxPool2D((2,2)),\n",
    "            keras.layers.Conv2D(128,(3,3),activation='relu'),\n",
    "            keras.layers.Flatten(),\n",
    "            keras.layers.Dense(10,activation='softmax')])\n",
    "    return model\n",
    "        "
   ]
  },
  {
   "cell_type": "code",
   "execution_count": 9,
   "id": "557e0416",
   "metadata": {},
   "outputs": [],
   "source": [
    "model=select_model(1)"
   ]
  },
  {
   "cell_type": "code",
   "execution_count": 10,
   "id": "e2d0d645",
   "metadata": {},
   "outputs": [
    {
     "name": "stdout",
     "output_type": "stream",
     "text": [
      "Model: \"sequential\"\n",
      "_________________________________________________________________\n",
      " Layer (type)                Output Shape              Param #   \n",
      "=================================================================\n",
      " conv2d (Conv2D)             (None, 26, 26, 32)        320       \n",
      "                                                                 \n",
      " max_pooling2d (MaxPooling2D  (None, 13, 13, 32)       0         \n",
      " )                                                               \n",
      "                                                                 \n",
      " flatten (Flatten)           (None, 5408)              0         \n",
      "                                                                 \n",
      " dense (Dense)               (None, 10)                54090     \n",
      "                                                                 \n",
      "=================================================================\n",
      "Total params: 54,410\n",
      "Trainable params: 54,410\n",
      "Non-trainable params: 0\n",
      "_________________________________________________________________\n"
     ]
    }
   ],
   "source": [
    "model.summary()"
   ]
  },
  {
   "cell_type": "code",
   "execution_count": 11,
   "id": "45706637",
   "metadata": {},
   "outputs": [],
   "source": [
    "model.compile(\n",
    "optimizer='adam',\n",
    "    loss='sparse_categorical_crossentropy',\n",
    "    metrics=['accuracy']\n",
    ")"
   ]
  },
  {
   "cell_type": "code",
   "execution_count": 12,
   "id": "5b9134ba",
   "metadata": {},
   "outputs": [
    {
     "name": "stdout",
     "output_type": "stream",
     "text": [
      "Epoch 1/5\n",
      "1875/1875 [==============================] - 12s 6ms/step - loss: 0.5757 - accuracy: 0.9408\n",
      "Epoch 2/5\n",
      "1875/1875 [==============================] - 11s 6ms/step - loss: 0.0873 - accuracy: 0.9742\n",
      "Epoch 3/5\n",
      "1875/1875 [==============================] - 12s 6ms/step - loss: 0.0707 - accuracy: 0.9789\n",
      "Epoch 4/5\n",
      "1875/1875 [==============================] - 12s 6ms/step - loss: 0.0648 - accuracy: 0.9807\n",
      "Epoch 5/5\n",
      "1875/1875 [==============================] - 12s 6ms/step - loss: 0.0514 - accuracy: 0.9847\n"
     ]
    },
    {
     "data": {
      "text/plain": [
       "<keras.callbacks.History at 0x22caa503d00>"
      ]
     },
     "execution_count": 12,
     "metadata": {},
     "output_type": "execute_result"
    }
   ],
   "source": [
    "model.fit(train_images,train_labels,epochs=5)"
   ]
  },
  {
   "cell_type": "code",
   "execution_count": 13,
   "id": "aefcb310",
   "metadata": {},
   "outputs": [
    {
     "name": "stdout",
     "output_type": "stream",
     "text": [
      "313/313 - 1s - loss: 0.1382 - accuracy: 0.9693 - 912ms/epoch - 3ms/step\n",
      "\n",
      "Test loss :  0.13818997144699097\n",
      "Test accuracy :  0.9692999720573425\n"
     ]
    }
   ],
   "source": [
    "test_loss,accuracy=model.evaluate(test_images,test_labels,verbose=2)\n",
    "print('\\nTest loss : ',test_loss)\n",
    "print('Test accuracy : ',accuracy)"
   ]
  },
  {
   "cell_type": "code",
   "execution_count": 14,
   "id": "ae7e8291",
   "metadata": {},
   "outputs": [
    {
     "name": "stdout",
     "output_type": "stream",
     "text": [
      "313/313 [==============================] - 1s 3ms/step\n"
     ]
    }
   ],
   "source": [
    "test_images=tf.cast(test_images,tf.float32)\n",
    "pred=model.predict(test_images)\n",
    "Number=[0,1,2,3,4,5,6,7,8,9]\n"
   ]
  },
  {
   "cell_type": "code",
   "execution_count": 15,
   "id": "e99e564b",
   "metadata": {},
   "outputs": [
    {
     "name": "stdout",
     "output_type": "stream",
     "text": [
      "Prediction : (10000, 10)\n",
      "Test labels :  (10000,)\n"
     ]
    }
   ],
   "source": [
    "print('Prediction :',pred.shape)\n",
    "print('Test labels : ',test_labels.shape)"
   ]
  },
  {
   "cell_type": "code",
   "execution_count": 16,
   "id": "016d5e51",
   "metadata": {},
   "outputs": [],
   "source": [
    "def plot_image(i,predictions_array,true_label,img):\n",
    "    predictions_array,true_label,img=predictions_array[i],true_label[i],img[i]\n",
    "    plt.grid(False)\n",
    "    plt.xticks([])\n",
    "    plt.yticks([])\n",
    "    plt.imshow(img,cmap=plt.cm.binary)\n",
    "    \n",
    "    predicted_label=np.argmax(predictions_array)\n",
    "    if predicted_label == true_label:\n",
    "        color='blue'\n",
    "    else:\n",
    "        color='red'\n",
    "    plt.xlabel(\"{} {:2.0f}% ({})\".format(Number[predicted_label],\n",
    "                                        100*np.max(predictions_array),\n",
    "                                        Number[true_label]),color=color)\n",
    "def plot_value_array(i,predictions_array,true_label):\n",
    "    predictions_array,true_label=predictions_array[i],true_label[i]\n",
    "    plt.grid(False)\n",
    "    plt.xticks([])\n",
    "    plt.yticks([])\n",
    "    thisplot=plt.bar(range(10),predictions_array,color='#777777')\n",
    "    plt.ylim([0,1])\n",
    "    predicted_label=np.argmax(predictions_array)\n",
    "    plt.xticks(Number)\n",
    "    \n",
    "    thisplot[predicted_label].set_color('red')\n",
    "    thisplot[true_label].set_color('blue')"
   ]
  },
  {
   "cell_type": "code",
   "execution_count": 17,
   "id": "bce31d81",
   "metadata": {},
   "outputs": [],
   "source": [
    "(train_images,train_labels),(test_images,test_labels)=mnist.load_data()"
   ]
  },
  {
   "cell_type": "code",
   "execution_count": 19,
   "id": "9000322a",
   "metadata": {},
   "outputs": [
    {
     "data": {
      "image/png": "[encoded data removed]",
      "text/plain": [
       "<Figure size 432x216 with 2 Axes>"
      ]
     },
     "metadata": {
      "needs_background": "light"
     },
     "output_type": "display_data"
    }
   ],
   "source": [
    "i=1\n",
    "plt.figure(figsize=(6,3))\n",
    "plt.subplot(1,2,1)\n",
    "plot_image(i,pred,test_labels,test_images)\n",
    "plt.subplot(1,2,2)\n",
    "plot_value_array(i,pred,test_labels)\n",
    "plt.show()"
   ]
  },
  {
   "cell_type": "code",
   "execution_count": 22,
   "id": "6e569afe",
   "metadata": {},
   "outputs": [
    {
     "data": {
      "image/png": "[encoded data removed]",
      "text/plain": [
       "<Figure size 864x720 with 30 Axes>"
      ]
     },
     "metadata": {
      "needs_background": "light"
     },
     "output_type": "display_data"
    }
   ],
   "source": [
    "num_rows=5\n",
    "num_cols=3\n",
    "num_images=num_rows*num_cols\n",
    "plt.figure(figsize=(2*2*num_cols,2*num_rows))\n",
    "for i in range(num_images):\n",
    "    plt.subplot(num_rows,2*num_cols,2*i+1)\n",
    "    plot_image(i,pred,test_labels,test_images)\n",
    "    plt.subplot(num_rows,2*num_cols,2*i+2)\n",
    "    plot_value_array(i,pred,test_labels)\n",
    "plt.show()"
   ]
  },
  {
   "cell_type": "code",
   "execution_count": 25,
   "id": "063cd39b",
   "metadata": {},
   "outputs": [],
   "source": [
    "def error_mnist(prediction_array,true_label):\n",
    "    error_index=[]\n",
    "    \n",
    "    for i in range(true_label.shape[0]):\n",
    "        if np.argmax(prediction_array[i])!= true_label[i]:\n",
    "            error_index.append(i)\n",
    "    return error_index\n",
    "\n",
    "def plot_error(index,prediction_array,true_label):\n",
    "    num_cols=5\n",
    "    num_rows=5\n",
    "    plt.figure(figsize=(2*2*num_cols,2*num_rows))\n",
    "    \n",
    "    assert len(index)<num_cols*num_rows\n",
    "    for i in range(len(index)):\n",
    "        plt.subplot(num_rows,2*num_cols,2*i+1)\n",
    "        idx=index[i]\n",
    "        plt.imshow(test_images[idx])\n",
    "        plt.subplot(num_rows,2*num_cols,2*i+2)\n",
    "        plt.bar(range(10),prediction_array[idx])\n",
    "        plt.xticks(Number)"
   ]
  },
  {
   "cell_type": "code",
   "execution_count": 27,
   "id": "acc733ec",
   "metadata": {},
   "outputs": [
    {
     "name": "stdout",
     "output_type": "stream",
     "text": [
      "[96, 115, 119, 151, 247, 259, 320, 321, 340, 362]\n"
     ]
    }
   ],
   "source": [
    "index=error_mnist(pred,test_labels)\n",
    "index_slice=index[:10]\n",
    "print(index[:10])"
   ]
  },
  {
   "cell_type": "code",
   "execution_count": 28,
   "id": "3e053a07",
   "metadata": {},
   "outputs": [
    {
     "data": {
      "image/png": "[encoded data removed]",
      "text/plain": [
       "<Figure size 1440x720 with 20 Axes>"
      ]
     },
     "metadata": {
      "needs_background": "light"
     },
     "output_type": "display_data"
    }
   ],
   "source": [
    "plot_error(index_slice,pred,test_labels)"
   ]
  }
 ],
 "metadata": {
  "kernelspec": {
   "display_name": "Python 3",
   "language": "python",
   "name": "python3"
  },
  "language_info": {
   "codemirror_mode": {
    "name": "ipython",
    "version": 3
   },
   "file_extension": ".py",
   "mimetype": "text/x-python",
   "name": "python",
   "nbconvert_exporter": "python",
   "pygments_lexer": "ipython3",
   "version": "3.8.8"
  }
 },
 "nbformat": 4,
 "nbformat_minor": 5
}
